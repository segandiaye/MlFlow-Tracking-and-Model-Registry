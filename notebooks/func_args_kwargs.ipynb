{
 "cells": [
  {
   "cell_type": "code",
   "execution_count": 1,
   "id": "933fa75f",
   "metadata": {},
   "outputs": [
    {
     "name": "stdout",
     "output_type": "stream",
     "text": [
      "func() takes 1 positional argument but 2 were given\n"
     ]
    }
   ],
   "source": [
    "def func(name:str) -> None: \n",
    "    print(f\"Hello {name}\")\n",
    "try :  \n",
    "    func(\"Aloys\",\"Bob\")\n",
    "except TypeError as e:\n",
    "    print(e)"
   ]
  },
  {
   "cell_type": "code",
   "execution_count": 2,
   "id": "32af8deb",
   "metadata": {},
   "outputs": [
    {
     "name": "stdout",
     "output_type": "stream",
     "text": [
      "<class 'tuple'>\n",
      "<class 'dict'>\n",
      "(1, 2, 3)\n",
      "{'b': 4}\n"
     ]
    }
   ],
   "source": [
    "def flex_func(*args, **kwargs) -> None:\n",
    "    print(type(args))\n",
    "    print(type(kwargs))\n",
    "    print(args)\n",
    "    print(kwargs)\n",
    "    \n",
    "flex_func(1,2,3,b=4)"
   ]
  },
  {
   "cell_type": "code",
   "execution_count": 3,
   "id": "6b8db5e6",
   "metadata": {},
   "outputs": [
    {
     "name": "stdout",
     "output_type": "stream",
     "text": [
      "bob alice doc\n"
     ]
    }
   ],
   "source": [
    "\n",
    "print(\"bob\",\"alice\",\"doc\")"
   ]
  },
  {
   "cell_type": "code",
   "execution_count": 6,
   "id": "0f607706",
   "metadata": {},
   "outputs": [
    {
     "name": "stdout",
     "output_type": "stream",
     "text": [
      "Ho Ho HO\n",
      "bob alice doc\n"
     ]
    }
   ],
   "source": [
    "\n",
    "def printf(*args, **kwargs):\n",
    "    print(\"Ho Ho HO\")\n",
    "    print(*args, **kwargs)\n",
    "\n",
    "printf(\"bob\",\"alice\",\"doc\")"
   ]
  }
 ],
 "metadata": {
  "kernelspec": {
   "display_name": "Artefact",
   "language": "python",
   "name": "python3"
  },
  "language_info": {
   "codemirror_mode": {
    "name": "ipython",
    "version": 3
   },
   "file_extension": ".py",
   "mimetype": "text/x-python",
   "name": "python",
   "nbconvert_exporter": "python",
   "pygments_lexer": "ipython3",
   "version": "3.11.8"
  }
 },
 "nbformat": 4,
 "nbformat_minor": 5
}
