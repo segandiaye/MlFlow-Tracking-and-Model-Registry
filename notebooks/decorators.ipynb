{
 "cells": [
  {
   "cell_type": "markdown",
   "id": "58404f09",
   "metadata": {},
   "source": [
    "# Decorators"
   ]
  },
  {
   "cell_type": "code",
   "execution_count": 19,
   "id": "4aa46711",
   "metadata": {},
   "outputs": [],
   "source": [
    "import time\n",
    "\n",
    "def log_exec(func): \n",
    "    def wrapper():\n",
    "        print(\"Starting the function :\")\n",
    "        start = time.time()\n",
    "        func()\n",
    "        end = time.time()\n",
    "        print(f\"Execution took {round(end-start,4)} sec\")\n",
    "    return wrapper"
   ]
  },
  {
   "cell_type": "code",
   "execution_count": 20,
   "id": "d8999212",
   "metadata": {},
   "outputs": [
    {
     "name": "stdout",
     "output_type": "stream",
     "text": [
      "Hello\n"
     ]
    }
   ],
   "source": [
    "def hello(): \n",
    "    time.sleep(1)\n",
    "    print(\"Hello\")\n",
    "    \n",
    "hello()"
   ]
  },
  {
   "cell_type": "code",
   "execution_count": 22,
   "id": "b4f9a982",
   "metadata": {},
   "outputs": [
    {
     "name": "stdout",
     "output_type": "stream",
     "text": [
      "Starting the function :\n",
      "Hello\n",
      "Execution took 1.0033 sec\n"
     ]
    }
   ],
   "source": [
    "hello = log_exec(hello)\n",
    "hello()"
   ]
  },
  {
   "cell_type": "code",
   "execution_count": null,
   "id": "28d2c328",
   "metadata": {},
   "outputs": [],
   "source": []
  },
  {
   "cell_type": "code",
   "execution_count": 23,
   "id": "191b42df",
   "metadata": {},
   "outputs": [
    {
     "name": "stdout",
     "output_type": "stream",
     "text": [
      "Starting the function :\n",
      "Hello\n",
      "Execution took 1.0031 sec\n"
     ]
    }
   ],
   "source": [
    "@log_exec\n",
    "def hello(): \n",
    "    time.sleep(1)\n",
    "    print(\"Hello\")\n",
    "hello()"
   ]
  },
  {
   "cell_type": "markdown",
   "id": "058491cb",
   "metadata": {},
   "source": [
    "## Caching"
   ]
  },
  {
   "cell_type": "markdown",
   "id": "1a9c8d92",
   "metadata": {},
   "source": [
    "Fibonnci \n",
    "\n",
    "$$ U_{n+2} = u_{n+1} + u_{n} $$"
   ]
  },
  {
   "cell_type": "code",
   "execution_count": 26,
   "id": "52470cc2",
   "metadata": {},
   "outputs": [
    {
     "data": {
      "text/plain": [
       "433494437"
      ]
     },
     "execution_count": 26,
     "metadata": {},
     "output_type": "execute_result"
    }
   ],
   "source": [
    "def fib(n:int)  -> int :\n",
    "    if n<= 1 : return 1 \n",
    "    return fib(n-1) + fib(n-2)\n",
    "\n",
    "fib(42)\n"
   ]
  },
  {
   "cell_type": "code",
   "execution_count": null,
   "id": "40b6d8ca",
   "metadata": {},
   "outputs": [
    {
     "name": "stdout",
     "output_type": "stream",
     "text": [
      "Cache stored for 1\n",
      "Cache stored for 0\n",
      "Cache stored for 2\n",
      "Cache stored for 3\n",
      "Cache stored for 4\n",
      "Cache stored for 5\n",
      "Cache stored for 6\n",
      "Cache stored for 7\n",
      "Cache stored for 8\n",
      "Cache stored for 9\n",
      "Cache stored for 10\n",
      "Cache stored for 11\n",
      "Cache stored for 12\n",
      "Cache stored for 13\n",
      "Cache stored for 14\n",
      "Cache stored for 15\n",
      "Cache stored for 16\n",
      "Cache stored for 17\n",
      "Cache stored for 18\n",
      "Cache stored for 19\n",
      "Cache stored for 20\n",
      "Cache stored for 21\n",
      "Cache stored for 22\n",
      "Cache stored for 23\n",
      "Cache stored for 24\n",
      "Cache stored for 25\n",
      "Cache stored for 26\n",
      "Cache stored for 27\n",
      "Cache stored for 28\n",
      "Cache stored for 29\n",
      "Cache stored for 30\n",
      "Cache stored for 31\n",
      "Cache stored for 32\n",
      "Cache stored for 33\n",
      "Cache stored for 34\n",
      "Cache stored for 35\n",
      "Cache stored for 36\n",
      "Cache stored for 37\n",
      "Cache stored for 38\n",
      "Cache stored for 39\n",
      "Cache stored for 40\n",
      "Cache stored for 41\n",
      "Cache stored for 42\n"
     ]
    },
    {
     "data": {
      "text/plain": [
       "433494437"
      ]
     },
     "execution_count": 29,
     "metadata": {},
     "output_type": "execute_result"
    }
   ],
   "source": [
    "def memoize(func) :\n",
    "    cache = {}\n",
    "    def wrapper(n) :\n",
    "        if n not in cache : \n",
    "            cache[n] = func(n)\n",
    "            print(f\"Cache stored for {n}\")\n",
    "        return cache[n]\n",
    "    return wrapper\n",
    "\n",
    "@memoize\n",
    "def fib(n:int)  -> int :\n",
    "    if n<= 1 : return 1 \n",
    "    return fib(n-1) + fib(n-2)\n",
    "\n",
    "fib(42)"
   ]
  },
  {
   "cell_type": "markdown",
   "id": "938faf90",
   "metadata": {},
   "source": [
    "## Functools "
   ]
  },
  {
   "cell_type": "code",
   "execution_count": 30,
   "id": "aded7775",
   "metadata": {},
   "outputs": [
    {
     "data": {
      "text/plain": [
       "433494437"
      ]
     },
     "execution_count": 30,
     "metadata": {},
     "output_type": "execute_result"
    }
   ],
   "source": [
    "from functools import lru_cache\n",
    "\n",
    "@lru_cache\n",
    "def fib(n:int)  -> int :\n",
    "    if n<= 1 : return 1 \n",
    "    return fib(n-1) + fib(n-2)\n",
    "\n",
    "fib(42)"
   ]
  },
  {
   "cell_type": "code",
   "execution_count": null,
   "id": "85ab52e8",
   "metadata": {},
   "outputs": [],
   "source": []
  }
 ],
 "metadata": {
  "kernelspec": {
   "display_name": "Artefact",
   "language": "python",
   "name": "python3"
  },
  "language_info": {
   "codemirror_mode": {
    "name": "ipython",
    "version": 3
   },
   "file_extension": ".py",
   "mimetype": "text/x-python",
   "name": "python",
   "nbconvert_exporter": "python",
   "pygments_lexer": "ipython3",
   "version": "3.11.8"
  }
 },
 "nbformat": 4,
 "nbformat_minor": 5
}
